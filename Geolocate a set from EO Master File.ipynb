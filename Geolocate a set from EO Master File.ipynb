{
 "cells": [
  {
   "cell_type": "markdown",
   "metadata": {},
   "source": [
    "# Geolocate a set from EO Master File\n"
   ]
  },
  {
   "cell_type": "code",
   "execution_count": 1,
   "metadata": {
    "collapsed": true
   },
   "outputs": [],
   "source": [
    "#!pip install -U googlemaps\n",
    "import googlemaps\n",
    "import pandas as pd"
   ]
  },
  {
   "cell_type": "code",
   "execution_count": 2,
   "metadata": {
    "collapsed": true
   },
   "outputs": [],
   "source": [
    "df = pd.DataFrame.from_csv('eo_ca.csv', index_col=None)"
   ]
  },
  {
   "cell_type": "code",
   "execution_count": 3,
   "metadata": {},
   "outputs": [
    {
     "data": {
      "text/html": [
       "<div>\n",
       "<style>\n",
       "    .dataframe thead tr:only-child th {\n",
       "        text-align: right;\n",
       "    }\n",
       "\n",
       "    .dataframe thead th {\n",
       "        text-align: left;\n",
       "    }\n",
       "\n",
       "    .dataframe tbody tr th {\n",
       "        vertical-align: top;\n",
       "    }\n",
       "</style>\n",
       "<table border=\"1\" class=\"dataframe\">\n",
       "  <thead>\n",
       "    <tr style=\"text-align: right;\">\n",
       "      <th></th>\n",
       "      <th>EIN</th>\n",
       "      <th>NAME</th>\n",
       "      <th>ICO</th>\n",
       "      <th>STREET</th>\n",
       "      <th>CITY</th>\n",
       "      <th>STATE</th>\n",
       "      <th>ZIP</th>\n",
       "      <th>GROUP</th>\n",
       "      <th>SUBSECTION</th>\n",
       "      <th>AFFILIATION</th>\n",
       "      <th>...</th>\n",
       "      <th>INCOME_CD</th>\n",
       "      <th>FILING_REQ_CD</th>\n",
       "      <th>PF_FILING_REQ_CD</th>\n",
       "      <th>ACCT_PD</th>\n",
       "      <th>ASSET_AMT</th>\n",
       "      <th>INCOME_AMT</th>\n",
       "      <th>REVENUE_AMT</th>\n",
       "      <th>NTEE_CD</th>\n",
       "      <th>SORT_NAME</th>\n",
       "      <th>ADDRESS</th>\n",
       "    </tr>\n",
       "  </thead>\n",
       "  <tbody>\n",
       "    <tr>\n",
       "      <th>0</th>\n",
       "      <td>2296179</td>\n",
       "      <td>RELIGIOUS SCIENCE CHURCH CENTER OF SAN DIEGO</td>\n",
       "      <td>NaN</td>\n",
       "      <td>4102 MARLBOROUGH</td>\n",
       "      <td>SAN DIEGO</td>\n",
       "      <td>CA</td>\n",
       "      <td>92105-1462</td>\n",
       "      <td>0</td>\n",
       "      <td>3</td>\n",
       "      <td>3</td>\n",
       "      <td>...</td>\n",
       "      <td>0</td>\n",
       "      <td>6</td>\n",
       "      <td>0</td>\n",
       "      <td>3</td>\n",
       "      <td>NaN</td>\n",
       "      <td>NaN</td>\n",
       "      <td>NaN</td>\n",
       "      <td>NaN</td>\n",
       "      <td>NaN</td>\n",
       "      <td>4102 MARLBOROUGH, SAN DIEGO, CA 92105-1462</td>\n",
       "    </tr>\n",
       "    <tr>\n",
       "      <th>1</th>\n",
       "      <td>3140260</td>\n",
       "      <td>PILGRIM BAPTIST CHURCH</td>\n",
       "      <td>NaN</td>\n",
       "      <td>217 N GRANT ST</td>\n",
       "      <td>SAN MATEO</td>\n",
       "      <td>CA</td>\n",
       "      <td>94401-1833</td>\n",
       "      <td>3125</td>\n",
       "      <td>3</td>\n",
       "      <td>9</td>\n",
       "      <td>...</td>\n",
       "      <td>0</td>\n",
       "      <td>6</td>\n",
       "      <td>0</td>\n",
       "      <td>12</td>\n",
       "      <td>NaN</td>\n",
       "      <td>NaN</td>\n",
       "      <td>NaN</td>\n",
       "      <td>NaN</td>\n",
       "      <td>1910</td>\n",
       "      <td>217 N GRANT ST, SAN MATEO, CA 94401-1833</td>\n",
       "    </tr>\n",
       "    <tr>\n",
       "      <th>2</th>\n",
       "      <td>3754390</td>\n",
       "      <td>LITTLE LEAGUE BASEBALL INC</td>\n",
       "      <td>% TONY GARCIA</td>\n",
       "      <td>36511 MILE END RD</td>\n",
       "      <td>SOLEDAD</td>\n",
       "      <td>CA</td>\n",
       "      <td>93960-9689</td>\n",
       "      <td>3158</td>\n",
       "      <td>3</td>\n",
       "      <td>9</td>\n",
       "      <td>...</td>\n",
       "      <td>0</td>\n",
       "      <td>1</td>\n",
       "      <td>0</td>\n",
       "      <td>9</td>\n",
       "      <td>NaN</td>\n",
       "      <td>NaN</td>\n",
       "      <td>NaN</td>\n",
       "      <td>NaN</td>\n",
       "      <td>4050914 SOLEDAD LL</td>\n",
       "      <td>36511 MILE END RD, SOLEDAD, CA 93960-9689</td>\n",
       "    </tr>\n",
       "    <tr>\n",
       "      <th>3</th>\n",
       "      <td>10104976</td>\n",
       "      <td>SAINT ANDREW CHURCH</td>\n",
       "      <td>NaN</td>\n",
       "      <td>4050 KATELLA AVE STE 101</td>\n",
       "      <td>LOS ALAMITOS</td>\n",
       "      <td>CA</td>\n",
       "      <td>90720-3463</td>\n",
       "      <td>0</td>\n",
       "      <td>3</td>\n",
       "      <td>3</td>\n",
       "      <td>...</td>\n",
       "      <td>0</td>\n",
       "      <td>6</td>\n",
       "      <td>0</td>\n",
       "      <td>12</td>\n",
       "      <td>NaN</td>\n",
       "      <td>NaN</td>\n",
       "      <td>NaN</td>\n",
       "      <td>X21Z</td>\n",
       "      <td>NaN</td>\n",
       "      <td>4050 KATELLA AVE STE 101, LOS ALAMITOS, CA 907...</td>\n",
       "    </tr>\n",
       "    <tr>\n",
       "      <th>4</th>\n",
       "      <td>10137902</td>\n",
       "      <td>AMERICAN FEDERATION OF STATE COUNTY &amp; MUNICIPA...</td>\n",
       "      <td>% STEVEN FELDMAN</td>\n",
       "      <td>1535 RUGBY CIR</td>\n",
       "      <td>THOUSAND OAKS</td>\n",
       "      <td>CA</td>\n",
       "      <td>91360-3534</td>\n",
       "      <td>1381</td>\n",
       "      <td>5</td>\n",
       "      <td>9</td>\n",
       "      <td>...</td>\n",
       "      <td>0</td>\n",
       "      <td>2</td>\n",
       "      <td>0</td>\n",
       "      <td>12</td>\n",
       "      <td>0.0</td>\n",
       "      <td>0.0</td>\n",
       "      <td>0.0</td>\n",
       "      <td>NaN</td>\n",
       "      <td>L2006CA LA PROFESSIONAL MEDICAL EMP</td>\n",
       "      <td>1535 RUGBY CIR, THOUSAND OAKS, CA 91360-3534</td>\n",
       "    </tr>\n",
       "  </tbody>\n",
       "</table>\n",
       "<p>5 rows × 29 columns</p>\n",
       "</div>"
      ],
      "text/plain": [
       "        EIN                                               NAME  \\\n",
       "0   2296179       RELIGIOUS SCIENCE CHURCH CENTER OF SAN DIEGO   \n",
       "1   3140260                             PILGRIM BAPTIST CHURCH   \n",
       "2   3754390                         LITTLE LEAGUE BASEBALL INC   \n",
       "3  10104976                                SAINT ANDREW CHURCH   \n",
       "4  10137902  AMERICAN FEDERATION OF STATE COUNTY & MUNICIPA...   \n",
       "\n",
       "                ICO                    STREET           CITY STATE  \\\n",
       "0               NaN          4102 MARLBOROUGH      SAN DIEGO    CA   \n",
       "1               NaN            217 N GRANT ST      SAN MATEO    CA   \n",
       "2     % TONY GARCIA         36511 MILE END RD        SOLEDAD    CA   \n",
       "3               NaN  4050 KATELLA AVE STE 101   LOS ALAMITOS    CA   \n",
       "4  % STEVEN FELDMAN            1535 RUGBY CIR  THOUSAND OAKS    CA   \n",
       "\n",
       "          ZIP  GROUP  SUBSECTION  AFFILIATION  \\\n",
       "0  92105-1462      0           3            3   \n",
       "1  94401-1833   3125           3            9   \n",
       "2  93960-9689   3158           3            9   \n",
       "3  90720-3463      0           3            3   \n",
       "4  91360-3534   1381           5            9   \n",
       "\n",
       "                         ...                          INCOME_CD  \\\n",
       "0                        ...                                  0   \n",
       "1                        ...                                  0   \n",
       "2                        ...                                  0   \n",
       "3                        ...                                  0   \n",
       "4                        ...                                  0   \n",
       "\n",
       "   FILING_REQ_CD  PF_FILING_REQ_CD  ACCT_PD  ASSET_AMT  INCOME_AMT  \\\n",
       "0              6                 0        3        NaN         NaN   \n",
       "1              6                 0       12        NaN         NaN   \n",
       "2              1                 0        9        NaN         NaN   \n",
       "3              6                 0       12        NaN         NaN   \n",
       "4              2                 0       12        0.0         0.0   \n",
       "\n",
       "   REVENUE_AMT  NTEE_CD                            SORT_NAME  \\\n",
       "0          NaN      NaN                                  NaN   \n",
       "1          NaN      NaN                                 1910   \n",
       "2          NaN      NaN                   4050914 SOLEDAD LL   \n",
       "3          NaN     X21Z                                  NaN   \n",
       "4          0.0      NaN  L2006CA LA PROFESSIONAL MEDICAL EMP   \n",
       "\n",
       "                                             ADDRESS  \n",
       "0         4102 MARLBOROUGH, SAN DIEGO, CA 92105-1462  \n",
       "1           217 N GRANT ST, SAN MATEO, CA 94401-1833  \n",
       "2          36511 MILE END RD, SOLEDAD, CA 93960-9689  \n",
       "3  4050 KATELLA AVE STE 101, LOS ALAMITOS, CA 907...  \n",
       "4       1535 RUGBY CIR, THOUSAND OAKS, CA 91360-3534  \n",
       "\n",
       "[5 rows x 29 columns]"
      ]
     },
     "execution_count": 3,
     "metadata": {},
     "output_type": "execute_result"
    }
   ],
   "source": [
    "df['ADDRESS'] = df['STREET'] + ', ' + df['CITY'] + ', ' + df['STATE'] + ' ' + df['ZIP']\n",
    "df.head()"
   ]
  },
  {
   "cell_type": "code",
   "execution_count": 4,
   "metadata": {
    "collapsed": true
   },
   "outputs": [],
   "source": [
    "df.dropna(axis=0, how='any', subset=['NTEE_CD'], inplace=True)"
   ]
  },
  {
   "cell_type": "code",
   "execution_count": 5,
   "metadata": {
    "collapsed": true
   },
   "outputs": [],
   "source": [
    "socialscienceOrgs = df.loc[df['NTEE_CD'].str.contains('V')]"
   ]
  },
  {
   "cell_type": "code",
   "execution_count": 6,
   "metadata": {},
   "outputs": [
    {
     "data": {
      "text/plain": [
       "(200, 29)"
      ]
     },
     "execution_count": 6,
     "metadata": {},
     "output_type": "execute_result"
    }
   ],
   "source": [
    "socialscienceOrgs.shape"
   ]
  },
  {
   "cell_type": "code",
   "execution_count": 7,
   "metadata": {},
   "outputs": [
    {
     "data": {
      "text/plain": [
       "{'lat': 32.7511561, 'lng': -117.1439528}"
      ]
     },
     "execution_count": 7,
     "metadata": {},
     "output_type": "execute_result"
    }
   ],
   "source": [
    "gmaps = googlemaps.Client(key='ADD-YOUR-KEY-HERE')\n",
    "geocode = gmaps.geocode(socialscienceOrgs.iloc[6]['ADDRESS'])\n",
    "geocode[0]['geometry']['location']"
   ]
  },
  {
   "cell_type": "code",
   "execution_count": 18,
   "metadata": {},
   "outputs": [
    {
     "name": "stderr",
     "output_type": "stream",
     "text": [
      "/anaconda/lib/python3.6/site-packages/ipykernel_launcher.py:1: SettingWithCopyWarning: \n",
      "A value is trying to be set on a copy of a slice from a DataFrame.\n",
      "Try using .loc[row_indexer,col_indexer] = value instead\n",
      "\n",
      "See the caveats in the documentation: http://pandas.pydata.org/pandas-docs/stable/indexing.html#indexing-view-versus-copy\n",
      "  \"\"\"Entry point for launching an IPython kernel.\n",
      "/anaconda/lib/python3.6/site-packages/ipykernel_launcher.py:2: SettingWithCopyWarning: \n",
      "A value is trying to be set on a copy of a slice from a DataFrame.\n",
      "Try using .loc[row_indexer,col_indexer] = value instead\n",
      "\n",
      "See the caveats in the documentation: http://pandas.pydata.org/pandas-docs/stable/indexing.html#indexing-view-versus-copy\n",
      "  \n"
     ]
    }
   ],
   "source": [
    "socialscienceOrgs['lat'] = ''\n",
    "socialscienceOrgs['lng'] = ''\n",
    "socialscienceOrgs.head()\n",
    "socialscienceOrgs = socialscienceOrgs.reset_index() #Make sure to reset index or accomodate geolocation loop"
   ]
  },
  {
   "cell_type": "code",
   "execution_count": 24,
   "metadata": {},
   "outputs": [
    {
     "data": {
      "text/plain": [
       "(200, 32)"
      ]
     },
     "execution_count": 24,
     "metadata": {},
     "output_type": "execute_result"
    }
   ],
   "source": [
    "# change Orgs of interest here so you won't have to change it 4x times in the loop\n",
    "orgs = socialscienceOrgs\n",
    "orgs.shape"
   ]
  },
  {
   "cell_type": "code",
   "execution_count": 25,
   "metadata": {
    "collapsed": true
   },
   "outputs": [],
   "source": [
    "for i in range(0,len(orgs)):\n",
    "    try:\n",
    "        geocode = gmaps.geocode(orgs.iloc[i]['ADDRESS'])\n",
    "        latlong = geocode[0]['geometry']['location']\n",
    "        if geocode:\n",
    "            orgs.loc[i, 'lat'] = latlong['lat']\n",
    "            orgs.loc[i, 'lng'] = latlong['lng']\n",
    "        else:\n",
    "            orgs.loc[i, 'lat'] = ''\n",
    "            orgs.loc[i, 'lng'] = ''\n",
    "    except IndexError:\n",
    "        geocode is None     "
   ]
  },
  {
   "cell_type": "code",
   "execution_count": 26,
   "metadata": {
    "collapsed": true
   },
   "outputs": [],
   "source": [
    "# Change name\n",
    "orgs.to_csv('SocialScienceOrgs-locations.csv')"
   ]
  },
  {
   "cell_type": "code",
   "execution_count": 27,
   "metadata": {
    "collapsed": true
   },
   "outputs": [],
   "source": [
    "# add NTEE Taxonomy\n",
    "df = pd.DataFrame.from_csv('NTEE-CODES-V2.csv')\n",
    "dfmerged = pd.merge(orgs, df, how = 'inner', on = 'NTEE_CD')\n",
    "dfmerged.shape # will lose special cases like 'V06E' intead of 'V06'"
   ]
  },
  {
   "cell_type": "code",
   "execution_count": 37,
   "metadata": {
    "collapsed": true
   },
   "outputs": [],
   "source": [
    "# append to growing list\n",
    "dftodas = pd.DataFrame.from_csv('OOIV3.csv')\n",
    "dftodas = dftodas.append(dfmerged, ignore_index=True)\n",
    "dftodas.head()\n",
    "dftodas.to_csv('OOIV3.csv')"
   ]
  },
  {
   "cell_type": "code",
   "execution_count": null,
   "metadata": {
    "collapsed": true
   },
   "outputs": [],
   "source": []
  }
 ],
 "metadata": {
  "kernelspec": {
   "display_name": "Python 3",
   "language": "python",
   "name": "python3"
  },
  "language_info": {
   "codemirror_mode": {
    "name": "ipython",
    "version": 3
   },
   "file_extension": ".py",
   "mimetype": "text/x-python",
   "name": "python",
   "nbconvert_exporter": "python",
   "pygments_lexer": "ipython3",
   "version": "3.6.1"
  }
 },
 "nbformat": 4,
 "nbformat_minor": 2
}
